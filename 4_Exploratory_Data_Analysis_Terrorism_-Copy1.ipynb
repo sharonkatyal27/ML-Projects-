{
 "cells": [
  {
   "cell_type": "markdown",
   "metadata": {
    "id": "qvj3XiIIQVvg"
   },
   "source": [
    "# <center>Task: Exploratory Data Analysis - Terrorism</center> "
   ]
  },
  {
   "cell_type": "markdown",
   "metadata": {
    "id": "DlMdppNUQVvh"
   },
   "source": [
    "### <font color='blue'>Objective</font>:\n",
    "● Perform ‘Exploratory Data Analysis’ on dataset  ‘Global Terrorism’ \n",
    "\n",
    "● As a security/defense analyst, try to find out the hot zone of terrorism. \n",
    "\n",
    "● What all security issues and insights you can derive by EDA? "
   ]
  },
  {
   "cell_type": "markdown",
   "metadata": {
    "id": "OYiW0RQCQVvh"
   },
   "source": [
    "### DATA PREPROCESSING"
   ]
  },
  {
   "cell_type": "code",
   "execution_count": null,
   "metadata": {
    "id": "ral_uE-pQVvi"
   },
   "outputs": [],
   "source": [
    "import math\n",
    "import warnings\n",
    "import numpy as np # linear algebra\n",
    "import pandas as pd # data processing, CSV file I/O (e.g. pd.read_csv)\n",
    "import seaborn as sns\n",
    "import plotly.offline as py\n",
    "import plotly.graph_objs as go\n",
    "import matplotlib.pyplot as plt\n",
    "warnings.filterwarnings('ignore')"
   ]
  },
  {
   "cell_type": "code",
   "execution_count": null,
   "metadata": {
    "id": "zPaLuRD9QVvj"
   },
   "outputs": [],
   "source": [
    "# Let's import to our data and check the basics.\n",
    "terror = pd.read_csv('globalterrorism.csv',encoding='ISO-8859-1')"
   ]
  },
  {
   "cell_type": "code",
   "execution_count": null,
   "metadata": {
    "id": "saCv2PUuQVvj",
    "outputId": "e633f6dd-dd9a-4b05-9d91-0eab43b10821"
   },
   "outputs": [],
   "source": [
    "terror.head()"
   ]
  },
  {
   "cell_type": "code",
   "execution_count": null,
   "metadata": {
    "id": "ElgvZ23PQVvo",
    "outputId": "792b63cd-e614-40b6-fac6-041b1e18df11"
   },
   "outputs": [],
   "source": [
    "terror.columns"
   ]
  },
  {
   "cell_type": "markdown",
   "metadata": {
    "id": "j6OBu6kbQVvp"
   },
   "source": [
    "    * There are to many columns, I didn't count them yet. But important things are the columns. Therefore we should look the columns and check what are they."
   ]
  },
  {
   "cell_type": "code",
   "execution_count": null,
   "metadata": {
    "id": "DfH9ma6_QVvp"
   },
   "outputs": [],
   "source": [
    "terror.rename(columns={'iyear':'Year','imonth':'Month','iday':'Day','country_txt':'Country','provstate':'state',\n",
    "                       'region_txt':'Region','attacktype1_txt':'AttackType','target1':'Target','nkill':'Killed',\n",
    "                       'nwound':'Wounded','summary':'Summary','gname':'Group','targtype1_txt':'Target_type',\n",
    "                       'weaptype1_txt':'Weapon_type','motive':'Motive'},inplace=True)"
   ]
  },
  {
   "cell_type": "code",
   "execution_count": null,
   "metadata": {
    "id": "shu6ydqJQVvp"
   },
   "outputs": [],
   "source": [
    "# I'm just take important data in whole dataset those I'm using further processing.\n",
    "terror=terror[['Year','Month','Day','Country','state','Region','city','latitude','longitude','AttackType','Killed',\n",
    "               'Wounded','Target','Summary','Group','Target_type','Weapon_type','Motive']]"
   ]
  },
  {
   "cell_type": "code",
   "execution_count": null,
   "metadata": {
    "id": "8nY3tCfWQVvq",
    "outputId": "16b8b4ab-c594-4f5d-bde9-6ebd82cb1536"
   },
   "outputs": [],
   "source": [
    "terror.head()"
   ]
  },
  {
   "cell_type": "code",
   "execution_count": null,
   "metadata": {
    "id": "4CjNyg2IQVvq",
    "outputId": "4fe6a508-a3c5-4ae7-8fec-1e1ce3b1501f"
   },
   "outputs": [],
   "source": [
    "# Checking the null velues in data\n",
    "terror.isnull().sum()"
   ]
  },
  {
   "cell_type": "code",
   "execution_count": null,
   "metadata": {
    "id": "zpC5CIbsQVvq",
    "outputId": "83fb7342-291b-4c0e-d0be-1203884e1fa4"
   },
   "outputs": [],
   "source": [
    "terror.info()"
   ]
  },
  {
   "cell_type": "markdown",
   "metadata": {
    "id": "UkK9DKYrQVvr"
   },
   "source": [
    "## Destructive Feature of data"
   ]
  },
  {
   "cell_type": "code",
   "execution_count": null,
   "metadata": {
    "id": "yASArssTQVvr",
    "outputId": "2f67fce8-84aa-41fa-d5df-b20932411049"
   },
   "outputs": [],
   "source": [
    "print(\"Country with the most attacks:\",terror['Country'].value_counts().idxmax())\n",
    "print(\"City with the most attacks:\",terror['city'].value_counts().index[1]) #as first entry is 'unknown'\n",
    "print(\"Region with the most attacks:\",terror['Region'].value_counts().idxmax())\n",
    "print(\"Year with the most attacks:\",terror['Year'].value_counts().idxmax())\n",
    "print(\"Month with the most attacks:\",terror['Month'].value_counts().idxmax())\n",
    "print(\"Group with the most attacks:\",terror['Group'].value_counts().index[1])\n",
    "print(\"Most Attack Types:\",terror['AttackType'].value_counts().idxmax())"
   ]
  },
  {
   "cell_type": "code",
   "execution_count": null,
   "metadata": {
    "id": "CrhOxCDuQVvr",
    "outputId": "f44761c1-b66d-4811-fd6e-86579b187e75"
   },
   "outputs": [],
   "source": [
    "from wordcloud import WordCloud\n",
    "from scipy import signal\n",
    "cities = terror.state.dropna(False)\n",
    "plt.subplots(figsize=(10,10))\n",
    "wordcloud = WordCloud(background_color = 'white',\n",
    "                     width = 512,\n",
    "                     height = 384).generate(' '.join(cities))\n",
    "plt.axis('off')\n",
    "plt.imshow(wordcloud)\n",
    "plt.show()"
   ]
  },
  {
   "cell_type": "code",
   "execution_count": null,
   "metadata": {
    "id": "8eYZIs1HQVvs",
    "outputId": "68511fb7-381a-4d29-f79e-d24b8fba2186"
   },
   "outputs": [],
   "source": [
    "terror['Year'].value_counts(dropna = False).sort_index()"
   ]
  },
  {
   "cell_type": "markdown",
   "metadata": {
    "id": "itSaXln0QVvs"
   },
   "source": [
    "## DATA VISUALISATION"
   ]
  },
  {
   "cell_type": "markdown",
   "metadata": {
    "id": "jaV8F_xbQVvs"
   },
   "source": [
    "### Number of Terrorist Activities each Year"
   ]
  },
  {
   "cell_type": "code",
   "execution_count": null,
   "metadata": {
    "id": "GuGBvwn3QVvs",
    "outputId": "541c1a9a-3ae7-4112-941d-93afd86c5d0d"
   },
   "outputs": [],
   "source": [
    "x_year = terror['Year'].unique()\n",
    "y_count_years = terror['Year'].value_counts(dropna = False).sort_index()\n",
    "plt.figure(figsize = (18,10))\n",
    "sns.barplot(x = x_year,\n",
    "           y = y_count_years,\n",
    "           palette = 'rocket')\n",
    "plt.xticks(rotation = 45)\n",
    "plt.xlabel('Attack Year')\n",
    "plt.ylabel('Number of Attacks each year')\n",
    "plt.title('Attack_of_Years')\n",
    "plt.show()"
   ]
  },
  {
   "cell_type": "code",
   "execution_count": null,
   "metadata": {
    "id": "dPmGiVS5QVvt",
    "outputId": "9623fc95-296f-4917-f12a-07ab6d89574f"
   },
   "outputs": [],
   "source": [
    "plt.subplots(figsize=(15,6))\n",
    "sns.countplot('Year',data=terror,palette='RdYlGn_r',edgecolor=sns.color_palette(\"YlOrBr\", 10))\n",
    "plt.xticks(rotation=45)\n",
    "plt.title('Number Of Terrorist Activities Each Year')\n",
    "plt.show()"
   ]
  },
  {
   "cell_type": "markdown",
   "metadata": {
    "id": "Ko15sfGyQVvt"
   },
   "source": [
    "### Terrorist Activities by Region in each Year through Area Plot\n"
   ]
  },
  {
   "cell_type": "code",
   "execution_count": null,
   "metadata": {
    "id": "d23b9hTeQVvt",
    "outputId": "4b158ef8-41b7-4190-fc38-b2db2342e2d5"
   },
   "outputs": [],
   "source": [
    "pd.crosstab(terror.Year, terror.Region).plot(kind='area',figsize=(15,6))\n",
    "plt.title('Terrorist Activities by Region in each Year')\n",
    "plt.ylabel('Number of Attacks')\n",
    "plt.show()"
   ]
  },
  {
   "cell_type": "code",
   "execution_count": null,
   "metadata": {
    "id": "Frowfh8DQVvu"
   },
   "outputs": [],
   "source": [
    "terror['Wounded'] = terror['Wounded'].fillna(0).astype(int)\n",
    "terror['Killed'] = terror['Killed'].fillna(0).astype(int)\n",
    "terror['casualities'] = terror['Killed'] + terror['Wounded']"
   ]
  },
  {
   "cell_type": "markdown",
   "metadata": {
    "id": "2JuzOeN2QVvu"
   },
   "source": [
    "### Values are sorted by the top 40 worst terror attacks as to keep the heatmap simple and easy to visualize"
   ]
  },
  {
   "cell_type": "code",
   "execution_count": null,
   "metadata": {
    "id": "Tp631odZQVvu"
   },
   "outputs": [],
   "source": [
    "terror1 = terror.sort_values(by='casualities',ascending=False)[:40]"
   ]
  },
  {
   "cell_type": "code",
   "execution_count": null,
   "metadata": {
    "id": "e4jRvf91QVvu"
   },
   "outputs": [],
   "source": [
    "heat=terror1.pivot_table(index='Country',columns='Year',values='casualities')\n",
    "heat.fillna(0,inplace=True)"
   ]
  },
  {
   "cell_type": "code",
   "execution_count": null,
   "metadata": {
    "id": "fe7Sk9ocQVvu",
    "outputId": "ed0ea1c7-3396-43be-a6a1-f1f28e37eb28"
   },
   "outputs": [],
   "source": [
    "heat.head()"
   ]
  },
  {
   "cell_type": "code",
   "execution_count": null,
   "metadata": {
    "id": "v4CF53FvQVvv",
    "outputId": "d559ec21-99c8-43a1-cdaf-f3a437d991d8",
    "scrolled": false
   },
   "outputs": [],
   "source": [
    "import plotly.offline as py\n",
    "py.init_notebook_mode(connected=True)\n",
    "import plotly.graph_objs as go\n",
    "colorscale = [[0, '#edf8fb'], [.3, '#00BFFF'],  [.6, '#8856a7'],  [1, '#810f7c']]\n",
    "heatmap = go.Heatmap(z=heat.values, x=heat.columns, y=heat.index, colorscale=colorscale)\n",
    "data = [heatmap]\n",
    "layout = go.Layout(\n",
    "    title='Top 40 Worst Terror Attacks in History from 1982 to 2016',\n",
    "    xaxis = dict(ticks='', nticks=20),\n",
    "    yaxis = dict(ticks='')\n",
    ")\n",
    "fig = go.Figure(data=data, layout=layout)\n",
    "py.iplot(fig, filename='heatmap',show_link=False)"
   ]
  },
  {
   "cell_type": "code",
   "execution_count": null,
   "metadata": {
    "id": "AK_ivgBxQVvv",
    "outputId": "10421e73-2ef1-4261-d3c8-85025b99c5b9"
   },
   "outputs": [],
   "source": [
    "terror.Country.value_counts()[:15]"
   ]
  },
  {
   "cell_type": "markdown",
   "metadata": {
    "id": "uPvFPrfKQVvw"
   },
   "source": [
    "### Top Countries affected by Terror Attacks"
   ]
  },
  {
   "cell_type": "code",
   "execution_count": null,
   "metadata": {
    "id": "r6Ce79s9QVvw",
    "outputId": "38891e6f-bba5-4f42-d666-a65f7b67254d"
   },
   "outputs": [],
   "source": [
    "plt.subplots(figsize=(15,6))\n",
    "sns.barplot(terror['Country'].value_counts()[:15].index,terror['Country'].value_counts()[:15].values,palette='Blues_d')\n",
    "plt.title('Top Countries Affected')\n",
    "plt.xlabel('Countries')\n",
    "plt.ylabel('Count')\n",
    "plt.xticks(rotation= 90)\n",
    "plt.show()"
   ]
  },
  {
   "cell_type": "markdown",
   "metadata": {
    "id": "fn32dVn6QVvw"
   },
   "source": [
    "## ANALYSIS ON CUSTOMIZED DATA"
   ]
  },
  {
   "cell_type": "markdown",
   "metadata": {
    "id": "NqwrxeAGQVvw"
   },
   "source": [
    "### Terrorist Attacks of a Particular year and their Locations\n",
    "\n",
    "Let's look at the terrorist acts in the world over a certain year."
   ]
  },
  {
   "cell_type": "code",
   "execution_count": null,
   "metadata": {
    "id": "HbN9b4cpQVvw"
   },
   "outputs": [],
   "source": [
    "import folium\n",
    "from folium.plugins import MarkerCluster "
   ]
  },
  {
   "cell_type": "code",
   "execution_count": null,
   "metadata": {
    "id": "jZbZeAPSQVvx"
   },
   "outputs": [],
   "source": [
    "filterYear = terror['Year'] == 1970"
   ]
  },
  {
   "cell_type": "code",
   "execution_count": null,
   "metadata": {
    "id": "wKZ7SCnNQVvx"
   },
   "outputs": [],
   "source": [
    "filterData = terror[filterYear] # filter data\n",
    "# filterData.info()\n",
    "reqFilterData = filterData.loc[:,'city':'longitude'] #We are getting the required fields\n",
    "reqFilterData = reqFilterData.dropna() # drop NaN values in latitude and longitude\n",
    "reqFilterDataList = reqFilterData.values.tolist()\n",
    "# reqFilterDataList"
   ]
  },
  {
   "cell_type": "code",
   "execution_count": null,
   "metadata": {
    "id": "ZcKfmWBbQVvx",
    "outputId": "03da78bb-9797-4bbb-eac8-fea536e0a18c"
   },
   "outputs": [],
   "source": [
    "map = folium.Map(location = [0, 30], tiles='CartoDB positron', zoom_start=2)\n",
    "# clustered marker\n",
    "markerCluster = folium.plugins.MarkerCluster().add_to(map)\n",
    "for point in range(0, len(reqFilterDataList)):\n",
    "    folium.Marker(location=[reqFilterDataList[point][1],reqFilterDataList[point][2]],\n",
    "                  popup = reqFilterDataList[point][0]).add_to(markerCluster)\n",
    "map"
   ]
  },
  {
   "cell_type": "markdown",
   "metadata": {
    "id": "EFa9wvWCQVvx"
   },
   "source": [
    "  #### 84% of the terrorist attacks in 1970 were carried out on the American continent. In 1970, the Middle East and North Africa, currently the center of wars and terrorist attacks, faced only one terrorist attack.**"
   ]
  },
  {
   "cell_type": "markdown",
   "metadata": {
    "id": "Z45swZSWQVvx"
   },
   "source": [
    "### Now let us check out which terrorist organizations have carried out their operations in each country. A value count would give us the terrorist organizations that have carried out the most attacks. we have indexed from 1 as to negate the value of 'Unknown'"
   ]
  },
  {
   "cell_type": "code",
   "execution_count": null,
   "metadata": {
    "id": "5llXIeGLQVvx",
    "outputId": "c4ba93bc-076b-4201-abdc-57913b63f854"
   },
   "outputs": [],
   "source": [
    "terror.Group.value_counts()[1:15]"
   ]
  },
  {
   "cell_type": "code",
   "execution_count": null,
   "metadata": {
    "id": "UsHwSuaLQVvx"
   },
   "outputs": [],
   "source": [
    "test = terror[terror.Group.isin(['Shining Path (SL)','Taliban','Islamic State of Iraq and the Levant (ISIL)'])]"
   ]
  },
  {
   "cell_type": "code",
   "execution_count": null,
   "metadata": {
    "id": "WGLnp4NRQVvy",
    "outputId": "da7dab96-0139-48b0-ee27-4258185a7939"
   },
   "outputs": [],
   "source": [
    "test.Country.unique()"
   ]
  },
  {
   "cell_type": "code",
   "execution_count": null,
   "metadata": {
    "id": "W6nIz30iQVvy"
   },
   "outputs": [],
   "source": [
    "terror_df_group = terror.dropna(subset=['latitude','longitude'])"
   ]
  },
  {
   "cell_type": "code",
   "execution_count": null,
   "metadata": {
    "id": "dsTZThbJQVvy"
   },
   "outputs": [],
   "source": [
    "terror_df_group = terror_df_group.drop_duplicates(subset=['Country','Group'])"
   ]
  },
  {
   "cell_type": "code",
   "execution_count": null,
   "metadata": {
    "id": "fKOKObdBQVvy",
    "outputId": "d2680754-5ffc-46e0-8491-59deff93ba61"
   },
   "outputs": [],
   "source": [
    "terrorist_groups = terror.Group.value_counts()[1:8].index.tolist()\n",
    "terror_df_group = terror_df_group.loc[terror_df_group.Group.isin(terrorist_groups)]\n",
    "print(terror_df_group.Group.unique())"
   ]
  },
  {
   "cell_type": "code",
   "execution_count": null,
   "metadata": {
    "id": "yo8KZAQCQVvy",
    "outputId": "56d4e79e-ab05-480f-9efc-f843af5a744e"
   },
   "outputs": [],
   "source": [
    "map = folium.Map(location=[20, 0], tiles=\"CartoDB positron\", zoom_start=2)\n",
    "markerCluster = folium.plugins.MarkerCluster().add_to(map)\n",
    "for i in range(0,len(terror_df_group)):\n",
    "    folium.Marker([terror_df_group.iloc[i]['latitude'],terror_df_group.iloc[i]['longitude']], \n",
    "                  popup='Group:{}<br>Country:{}'.format(terror_df_group.iloc[i]['Group'], \n",
    "                  terror_df_group.iloc[i]['Country'])).add_to(map)\n",
    "map"
   ]
  },
  {
   "cell_type": "markdown",
   "metadata": {
    "id": "_LMMryM1QVvy"
   },
   "source": [
    "#### The Above map looks untidy even though it can be zoomed in to view the Country in question. Hence in the next chart, I have used Folium's Marker Cluster to cluster these icons. This makes it visually pleasing and highly interactive"
   ]
  },
  {
   "cell_type": "code",
   "execution_count": null,
   "metadata": {
    "id": "c6tUeOoiQVvz",
    "outputId": "eea21aab-f7b8-4be3-8376-068885b65dda"
   },
   "outputs": [],
   "source": [
    "m1 = folium.Map(location=[20, 0], tiles=\"CartoDB positron\", zoom_start=2)\n",
    "marker_cluster = MarkerCluster(\n",
    "    name='clustered icons',\n",
    "    overlay=True,\n",
    "    control=False,\n",
    "    icon_create_function=None\n",
    ")\n",
    "for i in range(0,len(terror_df_group)):\n",
    "    marker=folium.Marker([terror_df_group.iloc[i]['latitude'],terror_df_group.iloc[i]['longitude']]) \n",
    "    popup='Group:{}<br>Country:{}'.format(terror_df_group.iloc[i]['Group'],\n",
    "                                          terror_df_group.iloc[i]['Country'])\n",
    "    folium.Popup(popup).add_to(marker)\n",
    "    marker_cluster.add_child(marker)\n",
    "marker_cluster.add_to(m1)\n",
    "folium.TileLayer('openstreetmap').add_to(m1)\n",
    "folium.TileLayer('Mapbox Bright').add_to(m1)\n",
    "folium.TileLayer('cartodbdark_matter').add_to(m1)\n",
    "folium.TileLayer('stamentoner').add_to(m1)\n",
    "folium.LayerControl().add_to(m1)\n",
    "\n",
    "m1"
   ]
  },
  {
   "cell_type": "code",
   "execution_count": null,
   "metadata": {
    "id": "9JGV53w3QVvz",
    "outputId": "2f6fd594-9356-4795-aeb4-14fcdb70eb60"
   },
   "outputs": [],
   "source": [
    "terror.head()"
   ]
  },
  {
   "cell_type": "code",
   "execution_count": null,
   "metadata": {
    "id": "HnO5XnfaQVvz",
    "outputId": "7668272c-2df2-4842-ba3a-5d076ba0fa2e"
   },
   "outputs": [],
   "source": [
    "# Total Number of people killed in terror attack\n",
    "killData = terror.loc[:,'Killed']\n",
    "print('Number of people killed by terror attack:', int(sum(killData.dropna())))# drop the NaN values"
   ]
  },
  {
   "cell_type": "code",
   "execution_count": null,
   "metadata": {
    "id": "w3ANw2PAQVvz"
   },
   "outputs": [],
   "source": [
    "# Let's look at what types of attacks these deaths were made of.\n",
    "attackData = terror.loc[:,'AttackType']\n",
    "# attackData\n",
    "typeKillData = pd.concat([attackData, killData], axis=1)"
   ]
  },
  {
   "cell_type": "code",
   "execution_count": null,
   "metadata": {
    "id": "CSbIJFc2QVv0",
    "outputId": "4de1e7e8-b033-4eed-dcc8-41b8a5c74d37"
   },
   "outputs": [],
   "source": [
    "typeKillData.head()"
   ]
  },
  {
   "cell_type": "code",
   "execution_count": null,
   "metadata": {
    "id": "kkbcPEtBQVv0",
    "outputId": "078884fe-68ed-4932-9e7e-3f1fb1455fc7"
   },
   "outputs": [],
   "source": [
    "typeKillFormatData = typeKillData.pivot_table(columns='AttackType', values='Killed', aggfunc='sum')\n",
    "typeKillFormatData"
   ]
  },
  {
   "cell_type": "code",
   "execution_count": null,
   "metadata": {
    "id": "5-Bl8BNsQVv0",
    "outputId": "5afa9c13-f7f0-414c-8e1d-9fea399923f0"
   },
   "outputs": [],
   "source": [
    "typeKillFormatData.info()"
   ]
  },
  {
   "cell_type": "code",
   "execution_count": null,
   "metadata": {
    "id": "Bm_7VlyIQVv0",
    "outputId": "23f613bd-705c-4264-cad3-3572d5597ed9"
   },
   "outputs": [],
   "source": [
    "labels = typeKillFormatData.columns.tolist() # convert line to list\n",
    "transpoze = typeKillFormatData.T # transpoze\n",
    "values = transpoze.values.tolist()\n",
    "fig, ax = plt.subplots(figsize=(20, 20), subplot_kw=dict(aspect=\"equal\"))\n",
    "plt.pie(values, startangle=90, autopct='%.2f%%')\n",
    "plt.title('Types of terrorist attacks that cause deaths')\n",
    "plt.legend(labels, loc='upper right', bbox_to_anchor = (1.3, 0.9), fontsize=15) # location legend\n",
    "plt.show()"
   ]
  },
  {
   "cell_type": "markdown",
   "metadata": {
    "id": "IwAfNE-8QVv1"
   },
   "source": [
    "#### <center>Armed assault and bombing/explosion are seen to be the cause of 77% of the deaths in these attacks. This rate is why these attacks are used so many times in terrorist actions. This is how dangerous weapons and explosives are to the world.</center>"
   ]
  },
  {
   "cell_type": "code",
   "execution_count": null,
   "metadata": {
    "id": "CHRnDvTeQVv1",
    "outputId": "a8af84b4-a46b-4419-9741-371546a6d5c3"
   },
   "outputs": [],
   "source": [
    "terror.head(2)"
   ]
  },
  {
   "cell_type": "code",
   "execution_count": null,
   "metadata": {
    "id": "lU6uGjmFQVv1"
   },
   "outputs": [],
   "source": [
    "#Number of Killed in Terrorist Attacks by Countries\n",
    "countryData = terror.loc[:,'Country']\n",
    "# countyData\n",
    "countryKillData = pd.concat([countryData, killData], axis=1)"
   ]
  },
  {
   "cell_type": "code",
   "execution_count": null,
   "metadata": {
    "id": "VqM5qQz1QVv1",
    "outputId": "eadb08cd-130d-4af5-eca1-35e443d81cf2"
   },
   "outputs": [],
   "source": [
    "countryKillFormatData = countryKillData.pivot_table(columns='Country', values='Killed', aggfunc='sum')\n",
    "countryKillFormatData"
   ]
  },
  {
   "cell_type": "code",
   "execution_count": null,
   "metadata": {
    "id": "2jzBn8ZuQVv1"
   },
   "outputs": [],
   "source": [
    "fig_size = plt.rcParams[\"figure.figsize\"]\n",
    "fig_size[0]=25\n",
    "fig_size[1]=25\n",
    "plt.rcParams[\"figure.figsize\"] = fig_size"
   ]
  },
  {
   "cell_type": "code",
   "execution_count": null,
   "metadata": {
    "id": "wsLXnp9GQVv1",
    "outputId": "beb3f2c4-497b-40ca-efcf-4998ad68dff9"
   },
   "outputs": [],
   "source": [
    "labels = countryKillFormatData.columns.tolist()\n",
    "labels = labels[:50] #50 bar provides nice view\n",
    "index = np.arange(len(labels))\n",
    "transpoze = countryKillFormatData.T\n",
    "values = transpoze.values.tolist()\n",
    "values = values[:50]\n",
    "values = [int(i[0]) for i in values] # convert float to int\n",
    "colors = ['red', 'green', 'blue', 'purple', 'yellow', 'brown', 'black', 'gray', 'magenta', 'orange'] # color list for bar chart bar color \n",
    "fig, ax = plt.subplots(1, 1)\n",
    "ax.yaxis.grid(True)\n",
    "fig_size = plt.rcParams[\"figure.figsize\"]\n",
    "fig_size[0]=25\n",
    "fig_size[1]=25\n",
    "plt.rcParams[\"figure.figsize\"] = fig_size\n",
    "plt.bar(index, values, color = colors, width = 0.9)\n",
    "plt.ylabel('Killed People', fontsize=20)\n",
    "plt.xlabel('Countries', fontsize = 20)\n",
    "plt.xticks(index, labels, fontsize=18, rotation=90)\n",
    "plt.title('Number of people killed by countries', fontsize = 20)\n",
    "# print(fig_size)\n",
    "plt.show()"
   ]
  },
  {
   "cell_type": "code",
   "execution_count": null,
   "metadata": {
    "id": "mAlkP14IQVv2",
    "outputId": "5c33386b-3889-4a82-920b-f30c05ca41a8"
   },
   "outputs": [],
   "source": [
    "labels = countryKillFormatData.columns.tolist()\n",
    "labels = labels[50:101]\n",
    "index = np.arange(len(labels))\n",
    "transpoze = countryKillFormatData.T\n",
    "values = transpoze.values.tolist()\n",
    "values = values[50:101]\n",
    "values = [int(i[0]) for i in values]\n",
    "colors = ['red', 'green', 'blue', 'purple', 'yellow', 'brown', 'black', 'gray', 'magenta', 'orange']\n",
    "fig, ax = plt.subplots(1, 1)\n",
    "ax.yaxis.grid(True)\n",
    "fig_size = plt.rcParams[\"figure.figsize\"]\n",
    "fig_size[0]=20\n",
    "fig_size[1]=20\n",
    "plt.rcParams[\"figure.figsize\"] = fig_size\n",
    "plt.bar(index, values, color = colors, width = 0.9)\n",
    "plt.ylabel('Killed People', fontsize=20)\n",
    "plt.xlabel('Countries', fontsize = 20)\n",
    "plt.xticks(index, labels, fontsize=18, rotation=90)\n",
    "plt.title('Number of people killed by countries', fontsize = 20)\n",
    "plt.show()"
   ]
  },
  {
   "cell_type": "code",
   "execution_count": null,
   "metadata": {
    "id": "oXn4h3YtQVv2",
    "outputId": "584d5c39-1e1a-4288-c78c-03e289662154"
   },
   "outputs": [],
   "source": [
    "labels = countryKillFormatData.columns.tolist()\n",
    "labels = labels[152:206]\n",
    "index = np.arange(len(labels))\n",
    "transpoze = countryKillFormatData.T\n",
    "values = transpoze.values.tolist()\n",
    "values = values[152:206]\n",
    "values = [int(i[0]) for i in values]\n",
    "colors = ['red', 'green', 'blue', 'purple', 'yellow', 'brown', 'black', 'gray', 'magenta', 'orange']\n",
    "fig, ax = plt.subplots(1, 1)\n",
    "ax.yaxis.grid(True)\n",
    "fig_size = plt.rcParams[\"figure.figsize\"]\n",
    "fig_size[0]=25\n",
    "fig_size[1]=25\n",
    "plt.rcParams[\"figure.figsize\"] = fig_size\n",
    "plt.bar(index, values, color = colors, width = 0.9)\n",
    "plt.ylabel('Killed People', fontsize=20)\n",
    "plt.xlabel('Countries', fontsize = 20)\n",
    "plt.xticks(index, labels, fontsize=18, rotation=90)\n",
    "plt.title('Number of people killed by countries', fontsize = 20)\n",
    "plt.show()"
   ]
  },
  {
   "cell_type": "markdown",
   "metadata": {
    "id": "5uxgOIFbQVv2"
   },
   "source": [
    "**Terrorist acts in the Middle East and northern Africa have been seen to have fatal consequences. The Middle East and North Africa are seen to be the places of serious terrorist attacks. In addition, even though there is a perception that Muslims are supporters of terrorism, Muslims are the people who are most damaged by terrorist attacks. If you look at the graphics, it appears that Iraq, Afghanistan and Pakistan are the most damaged countries. All of these countries are Muslim countries.**"
   ]
  },
  {
   "cell_type": "markdown",
   "metadata": {
    "id": "aoegqPToQVv2"
   },
   "source": [
    "<h1><font color='Indigo'><center>Thank You</center></font></h1>"
   ]
  },
  {
   "cell_type": "code",
   "execution_count": null,
   "metadata": {},
   "outputs": [],
   "source": []
  }
 ],
 "metadata": {
  "colab": {
   "name": "4.Exploratory Data Analysis - Terrorism .ipynb",
   "provenance": []
  },
  "kernelspec": {
   "display_name": "Python 3",
   "language": "python",
   "name": "python3"
  },
  "language_info": {
   "codemirror_mode": {
    "name": "ipython",
    "version": 3
   },
   "file_extension": ".py",
   "mimetype": "text/x-python",
   "name": "python",
   "nbconvert_exporter": "python",
   "pygments_lexer": "ipython3",
   "version": "3.7.3"
  }
 },
 "nbformat": 4,
 "nbformat_minor": 1
}
